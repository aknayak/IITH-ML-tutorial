{
 "cells": [
  {
   "cell_type": "markdown",
   "id": "647c4c85",
   "metadata": {},
   "source": [
    "This example notebook will be a modified version of the ML tutorial given by Ben Nachman in the INDIA-CMS lecture meeting. The original notebook can be found here\n",
    "https://github.com/bnachman/CMSIndiaDemo"
   ]
  },
  {
   "cell_type": "code",
   "execution_count": 1,
   "id": "195a1c2c",
   "metadata": {},
   "outputs": [],
   "source": [
    "import numpy as np\n",
    "import matplotlib.pyplot as plt"
   ]
  },
  {
   "cell_type": "code",
   "execution_count": 2,
   "id": "13070799",
   "metadata": {},
   "outputs": [],
   "source": [
    "from tensorflow.keras.models import Sequential\n",
    "from tensorflow.keras.layers import Dense\n",
    "from sklearn.model_selection import train_test_split\n",
    "from sklearn.metrics import roc_curve,auc\n",
    "from sklearn.preprocessing import StandardScaler\n",
    "import random"
   ]
  },
  {
   "cell_type": "code",
   "execution_count": 3,
   "id": "1171f1c9",
   "metadata": {},
   "outputs": [],
   "source": [
    "import pandas as pd"
   ]
  },
  {
   "cell_type": "markdown",
   "id": "502938bc",
   "metadata": {},
   "source": [
    "### Download the necessary datasets\n",
    "\n",
    "Data from the LHC Olympics: https://lhco2020.github.io/homepage/"
   ]
  },
  {
   "cell_type": "code",
   "execution_count": 4,
   "id": "ee2b30b5",
   "metadata": {},
   "outputs": [],
   "source": [
    "#!wget https://raw.githubusercontent.com/bnachman/CMSIndiaDemo/main/anomaly.csv\n",
    "#!wget https://raw.githubusercontent.com/bnachman/CMSIndiaDemo/main/noisesimulation1.csv\n",
    "#!wget https://raw.githubusercontent.com/bnachman/CMSIndiaDemo/main/noisesimulation2.csv"
   ]
  },
  {
   "cell_type": "markdown",
   "id": "d3301039",
   "metadata": {},
   "source": [
    "convert to pandas dataframe"
   ]
  },
  {
   "cell_type": "code",
   "execution_count": 5,
   "id": "e556fb5d",
   "metadata": {},
   "outputs": [],
   "source": [
    "df=pd.read_csv('anomaly.csv', sep=',',header=None)\n",
    "df2=pd.read_csv('noisesimulation1.csv', sep=',',header=None)\n",
    "df3=pd.read_csv('noisesimulation2.csv', sep=',', header=None)\n"
   ]
  },
  {
   "cell_type": "code",
   "execution_count": 6,
   "id": "3b59fe23",
   "metadata": {},
   "outputs": [],
   "source": [
    "\n",
    "#first feature is m_JJ, other features are jet masses and tau_21's.\n",
    "sig = df.to_numpy()\n",
    "back1 = df3.to_numpy() #one of these is Pythia and one is Herwig.\n",
    "back2 = df2.to_numpy()\n"
   ]
  },
  {
   "cell_type": "code",
   "execution_count": 7,
   "id": "cd16c159",
   "metadata": {},
   "outputs": [],
   "source": [
    "\n",
    "#Select only events in the signal region\n",
    "sig = sig[(sig[:,0]>3.25)*(sig[:,0]<3.75)][:,1:5]\n",
    "back1 = back1[(back1[:,0]>3.25)*(back1[:,0]<3.75)][:,1:5]\n",
    "back2 = back2[(back2[:,0]>3.25)*(back2[:,0]<3.75)][:,1:5]"
   ]
  },
  {
   "cell_type": "code",
   "execution_count": 8,
   "id": "3298fa1d",
   "metadata": {},
   "outputs": [],
   "source": [
    "## Transforming variables\n",
    "scaler = StandardScaler()\n",
    "scaler.fit(back1)\n",
    "sig = scaler.transform(sig)\n",
    "back1 = scaler.transform(back1)\n",
    "back2 = scaler.transform(back2)\n"
   ]
  },
  {
   "cell_type": "markdown",
   "id": "f3e9425c",
   "metadata": {},
   "source": [
    "##### We will first use a supervised classifier(dnn) and then compare the performance with the unsupervised model"
   ]
  },
  {
   "cell_type": "code",
   "execution_count": 11,
   "id": "8098b7f0",
   "metadata": {},
   "outputs": [],
   "source": [
    "X_fs = np.concatenate([sig,back1])\n",
    "Y_fs = np.concatenate([np.ones(len(sig)),np.zeros(len(back1))]) # assign labels"
   ]
  },
  {
   "cell_type": "code",
   "execution_count": 12,
   "id": "ebb30c21",
   "metadata": {},
   "outputs": [],
   "source": [
    "\n",
    "X_fs_train, X_fs_test, Y_fs_train, Y_fs_test = train_test_split(X_fs,Y_fs,test_size=0.2)"
   ]
  },
  {
   "cell_type": "code",
   "execution_count": 13,
   "id": "c5f34460",
   "metadata": {},
   "outputs": [
    {
     "name": "stdout",
     "output_type": "stream",
     "text": [
      "Model: \"sequential\"\n",
      "_________________________________________________________________\n",
      " Layer (type)                Output Shape              Param #   \n",
      "=================================================================\n",
      " dense (Dense)               (None, 100)               500       \n",
      "                                                                 \n",
      " dense_1 (Dense)             (None, 100)               10100     \n",
      "                                                                 \n",
      " dense_2 (Dense)             (None, 100)               10100     \n",
      "                                                                 \n",
      " dense_3 (Dense)             (None, 1)                 101       \n",
      "                                                                 \n",
      "=================================================================\n",
      "Total params: 20,801\n",
      "Trainable params: 20,801\n",
      "Non-trainable params: 0\n",
      "_________________________________________________________________\n",
      "Epoch 1/25\n"
     ]
    },
    {
     "name": "stderr",
     "output_type": "stream",
     "text": [
      "2022-08-28 12:17:29.415929: I tensorflow/core/platform/cpu_feature_guard.cc:151] This TensorFlow binary is optimized with oneAPI Deep Neural Network Library (oneDNN) to use the following CPU instructions in performance-critical operations:  SSE4.1 SSE4.2 AVX AVX2 FMA\n",
      "To enable them in other operations, rebuild TensorFlow with the appropriate compiler flags.\n"
     ]
    },
    {
     "name": "stdout",
     "output_type": "stream",
     "text": [
      "95/95 [==============================] - 1s 7ms/step - loss: 0.3632 - accuracy: 0.8654\n",
      "Epoch 2/25\n",
      "95/95 [==============================] - 1s 7ms/step - loss: 0.2578 - accuracy: 0.9020\n",
      "Epoch 3/25\n",
      "95/95 [==============================] - 1s 7ms/step - loss: 0.2351 - accuracy: 0.9095\n",
      "Epoch 4/25\n",
      "95/95 [==============================] - 1s 6ms/step - loss: 0.2297 - accuracy: 0.9120\n",
      "Epoch 5/25\n",
      "95/95 [==============================] - 0s 5ms/step - loss: 0.2287 - accuracy: 0.9121\n",
      "Epoch 6/25\n",
      "95/95 [==============================] - 0s 5ms/step - loss: 0.2273 - accuracy: 0.9129\n",
      "Epoch 7/25\n",
      "95/95 [==============================] - 0s 5ms/step - loss: 0.2262 - accuracy: 0.9134\n",
      "Epoch 8/25\n",
      "95/95 [==============================] - 0s 5ms/step - loss: 0.2256 - accuracy: 0.9134\n",
      "Epoch 9/25\n",
      "95/95 [==============================] - 0s 5ms/step - loss: 0.2249 - accuracy: 0.9139\n",
      "Epoch 10/25\n",
      "95/95 [==============================] - 0s 5ms/step - loss: 0.2241 - accuracy: 0.9139\n",
      "Epoch 11/25\n",
      "95/95 [==============================] - 0s 5ms/step - loss: 0.2240 - accuracy: 0.9138\n",
      "Epoch 12/25\n",
      "95/95 [==============================] - 0s 5ms/step - loss: 0.2240 - accuracy: 0.9139\n",
      "Epoch 13/25\n",
      "95/95 [==============================] - 0s 5ms/step - loss: 0.2234 - accuracy: 0.9141\n",
      "Epoch 14/25\n",
      "95/95 [==============================] - 0s 5ms/step - loss: 0.2231 - accuracy: 0.9144\n",
      "Epoch 15/25\n",
      "95/95 [==============================] - 0s 5ms/step - loss: 0.2230 - accuracy: 0.9138\n",
      "Epoch 16/25\n",
      "95/95 [==============================] - 0s 5ms/step - loss: 0.2226 - accuracy: 0.9143\n",
      "Epoch 17/25\n",
      "95/95 [==============================] - 0s 5ms/step - loss: 0.2228 - accuracy: 0.9141\n",
      "Epoch 18/25\n",
      "95/95 [==============================] - 0s 5ms/step - loss: 0.2225 - accuracy: 0.9142\n",
      "Epoch 19/25\n",
      "95/95 [==============================] - 0s 5ms/step - loss: 0.2220 - accuracy: 0.9142\n",
      "Epoch 20/25\n",
      "95/95 [==============================] - 0s 5ms/step - loss: 0.2220 - accuracy: 0.9141\n",
      "Epoch 21/25\n",
      "95/95 [==============================] - 0s 5ms/step - loss: 0.2217 - accuracy: 0.9143\n",
      "Epoch 22/25\n",
      "95/95 [==============================] - 0s 5ms/step - loss: 0.2216 - accuracy: 0.9147\n",
      "Epoch 23/25\n",
      "95/95 [==============================] - 0s 5ms/step - loss: 0.2213 - accuracy: 0.9145\n",
      "Epoch 24/25\n",
      "95/95 [==============================] - 0s 5ms/step - loss: 0.2214 - accuracy: 0.9145\n",
      "Epoch 25/25\n",
      "95/95 [==============================] - 0s 5ms/step - loss: 0.2213 - accuracy: 0.9144\n"
     ]
    },
    {
     "data": {
      "text/plain": [
       "<keras.callbacks.History at 0x7fb3c4c77c40>"
      ]
     },
     "execution_count": 13,
     "metadata": {},
     "output_type": "execute_result"
    }
   ],
   "source": [
    "## Fully supervised classifier\n",
    "\n",
    "model_fs = Sequential()\n",
    "model_fs.add(Dense(100,input_dim=4,activation='relu'))\n",
    "model_fs.add(Dense(100,activation='relu'))\n",
    "model_fs.add(Dense(100,activation='relu'))\n",
    "model_fs.add(Dense(1,activation='sigmoid'))\n",
    "model_fs.compile(loss='binary_crossentropy',optimizer='adam',metrics=['accuracy'])\n",
    "model_fs.summary()\n",
    "\n",
    "\n",
    "model_fs.fit(X_fs_train,Y_fs_train,epochs=25,batch_size=2000)"
   ]
  },
  {
   "cell_type": "markdown",
   "id": "7bb92c2c",
   "metadata": {},
   "source": [
    "### Plot ROC curves"
   ]
  },
  {
   "cell_type": "code",
   "execution_count": 20,
   "id": "08d25069",
   "metadata": {},
   "outputs": [
    {
     "data": {
      "text/plain": [
       "<matplotlib.legend.Legend at 0x7fb3c3d027c0>"
      ]
     },
     "execution_count": 20,
     "metadata": {},
     "output_type": "execute_result"
    },
    {
     "data": {
      "image/png": "[encoded data removed]",
      "text/plain": [
       "<Figure size 432x288 with 1 Axes>"
      ]
     },
     "metadata": {
      "needs_background": "light"
     },
     "output_type": "display_data"
    }
   ],
   "source": [
    "fpr_fs,tpr_fs,_=roc_curve(Y_fs_test,model_fs.predict(X_fs_test,batch_size=2000))\n",
    "\n",
    "# Plot the ROC curve\n",
    "fig, ax = plt.subplots()\n",
    "ax.set_aspect('equal')\n",
    "plt.plot(tpr_fs,1.0-fpr_fs,color=\"darkorange\",label='Fully Supervised')\n",
    "plt.plot([0,1],[1,0],linestyle='--',color=\"gray\",label=\"Random\")\n",
    "plt.xlabel(\"Pr(label signal | signal)\")\n",
    "plt.ylabel(\"Pr(label signal | background)\")\n",
    "plt.title(\"ROC Curve\")\n",
    "plt.axis([0,1,0,1])\n",
    "plt.legend(loc=\"upper left\")"
   ]
  },
  {
   "cell_type": "code",
   "execution_count": 21,
   "id": "e3fd140a",
   "metadata": {},
   "outputs": [
    {
     "name": "stdout",
     "output_type": "stream",
     "text": [
      "Model: \"sequential_1\"\n",
      "_________________________________________________________________\n",
      " Layer (type)                Output Shape              Param #   \n",
      "=================================================================\n",
      " dense_4 (Dense)             (None, 100)               500       \n",
      "                                                                 \n",
      " dense_5 (Dense)             (None, 4)                 404       \n",
      "                                                                 \n",
      " dense_6 (Dense)             (None, 100)               500       \n",
      "                                                                 \n",
      " dense_7 (Dense)             (None, 4)                 404       \n",
      "                                                                 \n",
      "=================================================================\n",
      "Total params: 1,808\n",
      "Trainable params: 1,808\n",
      "Non-trainable params: 0\n",
      "_________________________________________________________________\n",
      "Epoch 1/25\n",
      "39/39 [==============================] - 0s 5ms/step - loss: 0.8306\n",
      "Epoch 2/25\n",
      "39/39 [==============================] - 0s 5ms/step - loss: 0.3843\n",
      "Epoch 3/25\n",
      "39/39 [==============================] - 0s 5ms/step - loss: 0.1447\n",
      "Epoch 4/25\n",
      "39/39 [==============================] - 0s 5ms/step - loss: 0.0989\n",
      "Epoch 5/25\n",
      "39/39 [==============================] - 0s 5ms/step - loss: 0.0416\n",
      "Epoch 6/25\n",
      "39/39 [==============================] - 0s 5ms/step - loss: 0.0166\n",
      "Epoch 7/25\n",
      "39/39 [==============================] - 0s 4ms/step - loss: 0.0103\n",
      "Epoch 8/25\n",
      "39/39 [==============================] - 0s 5ms/step - loss: 0.0071\n",
      "Epoch 9/25\n",
      "39/39 [==============================] - 0s 5ms/step - loss: 0.0050\n",
      "Epoch 10/25\n",
      "39/39 [==============================] - 0s 4ms/step - loss: 0.0036\n",
      "Epoch 11/25\n",
      "39/39 [==============================] - 0s 4ms/step - loss: 0.0028\n",
      "Epoch 12/25\n",
      "39/39 [==============================] - 0s 5ms/step - loss: 0.0022\n",
      "Epoch 13/25\n",
      "39/39 [==============================] - 0s 4ms/step - loss: 0.0018\n",
      "Epoch 14/25\n",
      "39/39 [==============================] - 0s 4ms/step - loss: 0.0016\n",
      "Epoch 15/25\n",
      "39/39 [==============================] - 0s 3ms/step - loss: 0.0014\n",
      "Epoch 16/25\n",
      "39/39 [==============================] - 0s 3ms/step - loss: 0.0012\n",
      "Epoch 17/25\n",
      "39/39 [==============================] - 0s 3ms/step - loss: 0.0011\n",
      "Epoch 18/25\n",
      "39/39 [==============================] - 0s 3ms/step - loss: 0.0010\n",
      "Epoch 19/25\n",
      "39/39 [==============================] - 0s 3ms/step - loss: 9.2598e-04\n",
      "Epoch 20/25\n",
      "39/39 [==============================] - 0s 4ms/step - loss: 8.4802e-04\n",
      "Epoch 21/25\n",
      "39/39 [==============================] - 0s 3ms/step - loss: 7.8591e-04\n",
      "Epoch 22/25\n",
      "39/39 [==============================] - 0s 3ms/step - loss: 7.2875e-04\n",
      "Epoch 23/25\n",
      "39/39 [==============================] - 0s 3ms/step - loss: 6.8071e-04\n",
      "Epoch 24/25\n",
      "39/39 [==============================] - 0s 3ms/step - loss: 6.3541e-04\n",
      "Epoch 25/25\n",
      "39/39 [==============================] - 0s 3ms/step - loss: 5.9969e-04\n"
     ]
    },
    {
     "data": {
      "text/plain": [
       "<keras.callbacks.History at 0x7fb3c031b670>"
      ]
     },
     "execution_count": 21,
     "metadata": {},
     "output_type": "execute_result"
    }
   ],
   "source": [
    "## Anomaly detection\n",
    "\n",
    "# weak supervision would be S+B versus B.  \n",
    "# Let's do a simple unsupervised model, an autoencoder.\n",
    "\n",
    "model_us = Sequential()\n",
    "model_us.add(Dense(100,input_dim=4,activation='relu'))\n",
    "model_us.add(Dense(4,activation='relu'))\n",
    "model_us.add(Dense(100,activation='relu'))\n",
    "model_us.add(Dense(4,activation='linear'))\n",
    "model_us.compile(loss='mse',optimizer='adam')\n",
    "model_us.summary()\n",
    "\n",
    "X_us_train, X_us_test, Y_us_train, Y_us_test = train_test_split(back1,back1,test_size=0.5)\n",
    "model_us.fit(X_us_train,Y_us_train,epochs=25,batch_size=2000)"
   ]
  },
  {
   "cell_type": "code",
   "execution_count": 23,
   "id": "2b09b8e0",
   "metadata": {},
   "outputs": [
    {
     "data": {
      "text/plain": [
       "<matplotlib.legend.Legend at 0x7fb3b04dbaf0>"
      ]
     },
     "execution_count": 23,
     "metadata": {},
     "output_type": "execute_result"
    },
    {
     "data": {
      "image/png": "[encoded data removed]",
      "text/plain": [
       "<Figure size 432x288 with 1 Axes>"
      ]
     },
     "metadata": {
      "needs_background": "light"
     },
     "output_type": "display_data"
    }
   ],
   "source": [
    "anomaly_score = np.linalg.norm(X_fs_test - model_us.predict(X_fs_test,batch_size=2000),axis=1)\n",
    "fpr_us,tpr_us,_=roc_curve(Y_fs_test,anomaly_score)\n",
    "\n",
    "# Plot the ROC curve\n",
    "fig, ax = plt.subplots()\n",
    "ax.set_aspect('equal')\n",
    "plt.plot(tpr_fs,1.0-fpr_fs,color=\"darkorange\",label='Fully Supervised')\n",
    "plt.plot(tpr_us,1.0-fpr_us,color=\"blue\",label='Unsupervised')\n",
    "plt.plot([0,1],[1,0],linestyle='--',color=\"gray\",label=\"Random\")\n",
    "plt.xlabel(\"Pr(label signal | signal)\")\n",
    "plt.ylabel(\"Pr(label signal | background)\")\n",
    "plt.title(\"ROC Curve\")\n",
    "plt.axis([0,1,0,1])\n",
    "plt.legend(loc=\"upper left\")"
   ]
  },
  {
   "cell_type": "markdown",
   "id": "2e7b24bf",
   "metadata": {},
   "source": [
    "### The performance is not great but it is unsupervised"
   ]
  },
  {
   "cell_type": "code",
   "execution_count": 10,
   "id": "10d42902",
   "metadata": {},
   "outputs": [
    {
     "data": {
      "text/plain": [
       "array([0.5728853 , 0.4767713 , 0.78907228, ..., 0.67447716, 1.07708857,\n",
       "       0.77658118])"
      ]
     },
     "execution_count": 10,
     "metadata": {},
     "output_type": "execute_result"
    }
   ],
   "source": [
    "anomaly_score"
   ]
  },
  {
   "cell_type": "markdown",
   "id": "31fa3737",
   "metadata": {},
   "source": [
    "### Variational Auto Encoder"
   ]
  },
  {
   "cell_type": "code",
   "execution_count": 24,
   "id": "f024ceee",
   "metadata": {},
   "outputs": [],
   "source": [
    "# keras imports\n",
    "from tensorflow.keras.models import Model\n",
    "from tensorflow.keras.layers import Dense, Input, Lambda, Layer\n",
    "from tensorflow.keras.layers import BatchNormalization, Activation\n",
    "from tensorflow.keras.utils import plot_model\n",
    "from tensorflow.keras.optimizers import Adam\n",
    "from tensorflow.keras import backend as K\n",
    "from tensorflow.keras import metrics\n",
    "from tensorflow.keras.callbacks import EarlyStopping, ReduceLROnPlateau, TerminateOnNaN"
   ]
  },
  {
   "cell_type": "code",
   "execution_count": 25,
   "id": "cd3ff9d2",
   "metadata": {},
   "outputs": [],
   "source": [
    "def sample_z(args):\n",
    "    z_mean, z_log_var = args\n",
    "    batch = K.shape(z_mean)[0]\n",
    "    dim = K.int_shape(z_mean)[1]\n",
    "    eps = K.random_normal(shape=(batch, dim))\n",
    "    return z_mean + K.exp(z_log_var / 2) * eps"
   ]
  },
  {
   "cell_type": "code",
   "execution_count": 26,
   "id": "f7cc07b2",
   "metadata": {},
   "outputs": [],
   "source": [
    "from tensorflow.keras import backend as K\n",
    "\n",
    "# Define loss\n",
    "def myloss(y_true, y_pred):\n",
    "    # mse\n",
    "    sum_sq = (y_true-y_pred)*(y_true-y_pred)\n",
    "    return K.sum(sum_sq, axis=-1)\n",
    "\n",
    "class KLDivergenceLayer(Layer):\n",
    "\n",
    "    \"\"\" Identity transform layer that adds KL divergence\n",
    "    to the final model loss.\n",
    "    \"\"\"\n",
    "\n",
    "    def __init__(self, *args, **kwargs):\n",
    "        self.is_placeholder = True\n",
    "        super(KLDivergenceLayer, self).__init__(*args, **kwargs)\n",
    "\n",
    "    def call(self, inputs):\n",
    "        mu, log_var = inputs\n",
    "        kl_batch = - .5 * K.sum(1 + log_var -\n",
    "                                K.square(mu) -\n",
    "                                K.exp(log_var), axis=-1)\n",
    "        self.add_loss(K.mean(kl_batch), inputs=inputs)\n",
    "        return inputs"
   ]
  },
  {
   "cell_type": "code",
   "execution_count": 38,
   "id": "f8f591b3",
   "metadata": {},
   "outputs": [],
   "source": [
    "def vae(input_dim, latent_dim):\n",
    "    #encoder\n",
    "    input_encoder = Input(shape=(input_dim), name='encoder_input')\n",
    "    x = Dense(10, activation='elu')(input_encoder)\n",
    "    z_mu = Dense(latent_dim)(x)\n",
    "    z_log_var = Dense(latent_dim)(x)\n",
    "    z_mu, z_log_var = KLDivergenceLayer()([z_mu, z_log_var])\n",
    "    \n",
    "    z = Lambda(sample_z, output_shape=(latent_dim, ), name='z')([z_mu, z_log_var])\n",
    "    encoder = Model(inputs=input_encoder, outputs=[z_mu, z_log_var, z], name='encoder')\n",
    "    encoder.summary()\n",
    "    \n",
    "    #decoder\n",
    "    input_decoder = Input(shape=(latent_dim,), name='decoder_input')\n",
    "    x = Dense(10, activation='elu')(input_decoder)\n",
    "    dec = Dense(input_dim, activation='linear')(x)    \n",
    "    decoder = Model(inputs=input_decoder, outputs=dec, name='decoder')\n",
    "    decoder.summary()\n",
    " \n",
    "    #vae\n",
    "    vae_outputs = decoder(encoder(input_encoder)[2])\n",
    "    vae = Model(input_encoder, vae_outputs, name='vae')\n",
    "    vae.summary()\n",
    "    \n",
    "    return vae, encoder"
   ]
  },
  {
   "cell_type": "code",
   "execution_count": 42,
   "id": "238324b7",
   "metadata": {},
   "outputs": [
    {
     "name": "stdout",
     "output_type": "stream",
     "text": [
      "Model: \"encoder\"\n",
      "__________________________________________________________________________________________________\n",
      " Layer (type)                   Output Shape         Param #     Connected to                     \n",
      "==================================================================================================\n",
      " encoder_input (InputLayer)     [(None, 4)]          0           []                               \n",
      "                                                                                                  \n",
      " dense_21 (Dense)               (None, 10)           50          ['encoder_input[0][0]']          \n",
      "                                                                                                  \n",
      " dense_22 (Dense)               (None, 6)            66          ['dense_21[0][0]']               \n",
      "                                                                                                  \n",
      " dense_23 (Dense)               (None, 6)            66          ['dense_21[0][0]']               \n",
      "                                                                                                  \n",
      " kl_divergence_layer_3 (KLDiver  [(None, 6),         0           ['dense_22[0][0]',               \n",
      " genceLayer)                     (None, 6)]                       'dense_23[0][0]']               \n",
      "                                                                                                  \n",
      " z (Lambda)                     (None, 6)            0           ['kl_divergence_layer_3[0][0]',  \n",
      "                                                                  'kl_divergence_layer_3[0][1]']  \n",
      "                                                                                                  \n",
      "==================================================================================================\n",
      "Total params: 182\n",
      "Trainable params: 182\n",
      "Non-trainable params: 0\n",
      "__________________________________________________________________________________________________\n",
      "Model: \"decoder\"\n",
      "_________________________________________________________________\n",
      " Layer (type)                Output Shape              Param #   \n",
      "=================================================================\n",
      " decoder_input (InputLayer)  [(None, 6)]               0         \n",
      "                                                                 \n",
      " dense_24 (Dense)            (None, 10)                70        \n",
      "                                                                 \n",
      " dense_25 (Dense)            (None, 4)                 44        \n",
      "                                                                 \n",
      "=================================================================\n",
      "Total params: 114\n",
      "Trainable params: 114\n",
      "Non-trainable params: 0\n",
      "_________________________________________________________________\n",
      "Model: \"vae\"\n",
      "_________________________________________________________________\n",
      " Layer (type)                Output Shape              Param #   \n",
      "=================================================================\n",
      " encoder_input (InputLayer)  [(None, 4)]               0         \n",
      "                                                                 \n",
      " encoder (Functional)        [(None, 6),               182       \n",
      "                              (None, 6),                         \n",
      "                              (None, 6)]                         \n",
      "                                                                 \n",
      " decoder (Functional)        (None, 4)                 114       \n",
      "                                                                 \n",
      "=================================================================\n",
      "Total params: 296\n",
      "Trainable params: 296\n",
      "Non-trainable params: 0\n",
      "_________________________________________________________________\n"
     ]
    }
   ],
   "source": [
    "model, encoder = vae(4, 6)"
   ]
  },
  {
   "cell_type": "code",
   "execution_count": 43,
   "id": "17d6dae1",
   "metadata": {},
   "outputs": [],
   "source": [
    "model.compile(optimizer='adam', loss=myloss)"
   ]
  },
  {
   "cell_type": "code",
   "execution_count": 44,
   "id": "7a0d9965",
   "metadata": {},
   "outputs": [
    {
     "name": "stdout",
     "output_type": "stream",
     "text": [
      "Epoch 1/200\n",
      "601/601 - 2s - loss: 4.2656 - val_loss: 3.3653 - lr: 0.0010 - 2s/epoch - 3ms/step\n",
      "Epoch 2/200\n",
      "601/601 - 2s - loss: 3.2730 - val_loss: 3.2122 - lr: 0.0010 - 2s/epoch - 3ms/step\n",
      "Epoch 3/200\n",
      "601/601 - 2s - loss: 3.1708 - val_loss: 3.1395 - lr: 0.0010 - 2s/epoch - 3ms/step\n",
      "Epoch 4/200\n",
      "601/601 - 2s - loss: 3.1289 - val_loss: 3.1200 - lr: 0.0010 - 2s/epoch - 3ms/step\n",
      "Epoch 5/200\n",
      "601/601 - 2s - loss: 3.1106 - val_loss: 3.1046 - lr: 0.0010 - 2s/epoch - 3ms/step\n",
      "Epoch 6/200\n",
      "601/601 - 2s - loss: 3.1002 - val_loss: 3.0981 - lr: 0.0010 - 2s/epoch - 3ms/step\n",
      "Epoch 7/200\n",
      "601/601 - 2s - loss: 3.0849 - val_loss: 3.0796 - lr: 0.0010 - 2s/epoch - 3ms/step\n",
      "Epoch 8/200\n",
      "601/601 - 2s - loss: 3.0835 - val_loss: 3.0812 - lr: 0.0010 - 2s/epoch - 3ms/step\n",
      "Epoch 9/200\n",
      "601/601 - 2s - loss: 3.0727 - val_loss: 3.0738 - lr: 0.0010 - 2s/epoch - 3ms/step\n",
      "Epoch 10/200\n",
      "601/601 - 2s - loss: 3.0656 - val_loss: 3.0718 - lr: 0.0010 - 2s/epoch - 3ms/step\n",
      "Epoch 11/200\n",
      "601/601 - 2s - loss: 3.0722 - val_loss: 3.0665 - lr: 0.0010 - 2s/epoch - 3ms/step\n",
      "Epoch 12/200\n",
      "601/601 - 2s - loss: 3.0585 - val_loss: 3.0570 - lr: 0.0010 - 2s/epoch - 3ms/step\n",
      "Epoch 13/200\n",
      "601/601 - 2s - loss: 3.0628 - val_loss: 3.0665 - lr: 0.0010 - 2s/epoch - 3ms/step\n",
      "Epoch 14/200\n",
      "601/601 - 2s - loss: 3.0566 - val_loss: 3.0564 - lr: 0.0010 - 2s/epoch - 3ms/step\n",
      "Epoch 15/200\n",
      "601/601 - 2s - loss: 3.0535 - val_loss: 3.0516 - lr: 0.0010 - 2s/epoch - 3ms/step\n",
      "Epoch 16/200\n",
      "601/601 - 2s - loss: 3.0582 - val_loss: 3.0540 - lr: 0.0010 - 2s/epoch - 3ms/step\n",
      "Epoch 17/200\n",
      "\n",
      "Epoch 17: ReduceLROnPlateau reducing learning rate to 0.00010000000474974513.\n",
      "601/601 - 2s - loss: 3.0647 - val_loss: 3.0543 - lr: 0.0010 - 2s/epoch - 3ms/step\n",
      "Epoch 18/200\n",
      "601/601 - 2s - loss: 3.0512 - val_loss: 3.0456 - lr: 1.0000e-04 - 2s/epoch - 3ms/step\n",
      "Epoch 19/200\n",
      "601/601 - 2s - loss: 3.0495 - val_loss: 3.0487 - lr: 1.0000e-04 - 2s/epoch - 3ms/step\n",
      "Epoch 20/200\n",
      "\n",
      "Epoch 20: ReduceLROnPlateau reducing learning rate to 1.0000000474974514e-05.\n",
      "601/601 - 2s - loss: 3.0481 - val_loss: 3.0625 - lr: 1.0000e-04 - 2s/epoch - 3ms/step\n",
      "Epoch 21/200\n",
      "601/601 - 2s - loss: 3.0460 - val_loss: 3.0509 - lr: 1.0000e-05 - 2s/epoch - 3ms/step\n",
      "Epoch 22/200\n",
      "601/601 - 2s - loss: 3.0494 - val_loss: 3.0450 - lr: 1.0000e-05 - 2s/epoch - 3ms/step\n",
      "Epoch 23/200\n",
      "601/601 - 2s - loss: 3.0457 - val_loss: 3.0509 - lr: 1.0000e-05 - 2s/epoch - 3ms/step\n",
      "Epoch 24/200\n",
      "\n",
      "Epoch 24: ReduceLROnPlateau reducing learning rate to 1.0000000656873453e-06.\n",
      "601/601 - 2s - loss: 3.0517 - val_loss: 3.0542 - lr: 1.0000e-05 - 2s/epoch - 3ms/step\n",
      "Epoch 25/200\n",
      "601/601 - 2s - loss: 3.0556 - val_loss: 3.0508 - lr: 1.0000e-06 - 2s/epoch - 3ms/step\n",
      "Epoch 26/200\n",
      "\n",
      "Epoch 26: ReduceLROnPlateau reducing learning rate to 1.0000001111620805e-07.\n",
      "601/601 - 2s - loss: 3.0502 - val_loss: 3.0518 - lr: 1.0000e-06 - 2s/epoch - 3ms/step\n",
      "Epoch 27/200\n",
      "601/601 - 2s - loss: 3.0449 - val_loss: 3.0535 - lr: 1.0000e-07 - 2s/epoch - 3ms/step\n",
      "Epoch 28/200\n",
      "601/601 - 2s - loss: 3.0497 - val_loss: 3.0413 - lr: 1.0000e-07 - 2s/epoch - 3ms/step\n",
      "Epoch 29/200\n",
      "601/601 - 2s - loss: 3.0452 - val_loss: 3.0568 - lr: 1.0000e-07 - 2s/epoch - 3ms/step\n",
      "Epoch 30/200\n",
      "\n",
      "Epoch 30: ReduceLROnPlateau reducing learning rate to 1.000000082740371e-08.\n",
      "601/601 - 2s - loss: 3.0438 - val_loss: 3.0506 - lr: 1.0000e-07 - 2s/epoch - 3ms/step\n",
      "Epoch 31/200\n",
      "601/601 - 2s - loss: 3.0489 - val_loss: 3.0495 - lr: 1.0000e-08 - 2s/epoch - 3ms/step\n",
      "Epoch 32/200\n",
      "\n",
      "Epoch 32: ReduceLROnPlateau reducing learning rate to 1.000000082740371e-09.\n",
      "601/601 - 2s - loss: 3.0563 - val_loss: 3.0473 - lr: 1.0000e-08 - 2s/epoch - 3ms/step\n",
      "Epoch 33/200\n",
      "601/601 - 2s - loss: 3.0498 - val_loss: 3.0520 - lr: 1.0000e-09 - 2s/epoch - 3ms/step\n",
      "Epoch 34/200\n",
      "\n",
      "Epoch 34: ReduceLROnPlateau reducing learning rate to 1.000000082740371e-10.\n",
      "601/601 - 2s - loss: 3.0506 - val_loss: 3.0516 - lr: 1.0000e-09 - 2s/epoch - 3ms/step\n",
      "Epoch 35/200\n",
      "601/601 - 2s - loss: 3.0517 - val_loss: 3.0451 - lr: 1.0000e-10 - 2s/epoch - 3ms/step\n",
      "Epoch 36/200\n",
      "\n",
      "Epoch 36: ReduceLROnPlateau reducing learning rate to 1.000000082740371e-11.\n",
      "601/601 - 2s - loss: 3.0480 - val_loss: 3.0470 - lr: 1.0000e-10 - 2s/epoch - 3ms/step\n",
      "Epoch 37/200\n",
      "601/601 - 2s - loss: 3.0467 - val_loss: 3.0525 - lr: 1.0000e-11 - 2s/epoch - 3ms/step\n",
      "Epoch 38/200\n",
      "\n",
      "Epoch 38: ReduceLROnPlateau reducing learning rate to 1.000000082740371e-12.\n",
      "601/601 - 2s - loss: 3.0496 - val_loss: 3.0581 - lr: 1.0000e-11 - 2s/epoch - 3ms/step\n",
      "Epoch 38: early stopping\n"
     ]
    }
   ],
   "source": [
    "n_epochs = 200\n",
    "batch_size = 128\n",
    "# train \n",
    "history = model.fit(X_us_train, X_us_train, epochs=n_epochs, batch_size=batch_size, verbose = 2,\n",
    "                validation_data=(X_us_test, X_us_test),\n",
    "                callbacks = [\n",
    "                EarlyStopping(monitor='val_loss', patience=10, verbose=1),\n",
    "                ReduceLROnPlateau(monitor='val_loss', factor=0.1, patience=2, verbose=1),\n",
    "                TerminateOnNaN()])"
   ]
  },
  {
   "cell_type": "code",
   "execution_count": 45,
   "id": "07dc4c05",
   "metadata": {},
   "outputs": [
    {
     "data": {
      "text/plain": [
       "<matplotlib.legend.Legend at 0x7fb38c282fd0>"
      ]
     },
     "execution_count": 45,
     "metadata": {},
     "output_type": "execute_result"
    },
    {
     "data": {
      "image/png": "[encoded data removed]",
      "text/plain": [
       "<Figure size 432x288 with 1 Axes>"
      ]
     },
     "metadata": {
      "needs_background": "light"
     },
     "output_type": "display_data"
    }
   ],
   "source": [
    "anomaly_score = np.linalg.norm(X_fs_test - model.predict(X_fs_test,batch_size=2000),axis=1)\n",
    "fpr_us,tpr_us,_=roc_curve(Y_fs_test,anomaly_score)\n",
    "\n",
    "# Plot the ROC curve\n",
    "fig, ax = plt.subplots()\n",
    "ax.set_aspect('equal')\n",
    "plt.plot(tpr_fs,1.0 -fpr_fs,color=\"darkorange\",label='Fully Supervised')\n",
    "plt.plot(tpr_us,1.0 - fpr_us,color=\"blue\",label='Unsupervised')\n",
    "plt.plot([0,1],[1,0],linestyle='--',color=\"gray\",label=\"Random\")\n",
    "plt.xlabel(\"Pr(label signal | signal)\")\n",
    "plt.ylabel(\"Pr(label signal | background)\")\n",
    "plt.title(\"ROC Curve\")\n",
    "plt.axis([0,1,0,1])\n",
    "plt.legend(loc=\"upper left\")"
   ]
  },
  {
   "cell_type": "markdown",
   "id": "20079fb5",
   "metadata": {},
   "source": [
    "#### It performs a bit better than AE but still the performance is much worse than fully supervised\n"
   ]
  },
  {
   "cell_type": "code",
   "execution_count": null,
   "id": "7fe25c10",
   "metadata": {},
   "outputs": [],
   "source": []
  }
 ],
 "metadata": {
  "kernelspec": {
   "display_name": "Python 3 (ipykernel)",
   "language": "python",
   "name": "python3"
  },
  "language_info": {
   "codemirror_mode": {
    "name": "ipython",
    "version": 3
   },
   "file_extension": ".py",
   "mimetype": "text/x-python",
   "name": "python",
   "nbconvert_exporter": "python",
   "pygments_lexer": "ipython3",
   "version": "3.9.13"
  }
 },
 "nbformat": 4,
 "nbformat_minor": 5
}
