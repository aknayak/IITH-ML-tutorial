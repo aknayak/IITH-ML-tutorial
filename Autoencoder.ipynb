{
 "cells": [
  {
   "cell_type": "markdown",
   "id": "9155f5ae",
   "metadata": {},
   "source": [
    "This example notebook is adapted from the ML tutorial given by Ben nachman in the INDIA-CMS lecture series. The original notebook can be found here\n",
    "\n",
    "https://github.com/bnachman/CMSIndiaDemo\n"
   ]
  },
  {
   "cell_type": "code",
   "execution_count": 1,
   "id": "23a35e15",
   "metadata": {},
   "outputs": [],
   "source": [
    "import numpy as np\n",
    "import matplotlib.pyplot as plt"
   ]
  },
  {
   "cell_type": "code",
   "execution_count": 2,
   "id": "220be6fc",
   "metadata": {},
   "outputs": [],
   "source": [
    "from tensorflow.keras.models import Sequential\n",
    "from tensorflow.keras.layers import Dense\n",
    "from sklearn.model_selection import train_test_split\n",
    "from sklearn.metrics import roc_curve,auc\n",
    "from sklearn.preprocessing import StandardScaler\n",
    "import random"
   ]
  },
  {
   "cell_type": "code",
   "execution_count": 3,
   "id": "e1054aa1",
   "metadata": {},
   "outputs": [],
   "source": [
    "import pandas as pd"
   ]
  },
  {
   "cell_type": "markdown",
   "id": "f633bb7e",
   "metadata": {},
   "source": [
    "Download the necessary datasets. LHCOlympics2020 R and D dataset"
   ]
  },
  {
   "cell_type": "code",
   "execution_count": 4,
   "id": "829d7c13",
   "metadata": {},
   "outputs": [],
   "source": [
    "#!wget https://raw.githubusercontent.com/bnachman/CMSIndiaDemo/main/anomaly.csv\n",
    "#!wget https://raw.githubusercontent.com/bnachman/CMSIndiaDemo/main/noisesimulation1.csv\n",
    "#!wget https://raw.githubusercontent.com/bnachman/CMSIndiaDemo/main/noisesimulation2.csv"
   ]
  },
  {
   "cell_type": "markdown",
   "id": "3f19e557",
   "metadata": {},
   "source": [
    "convert to pandas dataframe"
   ]
  },
  {
   "cell_type": "code",
   "execution_count": 5,
   "id": "e01a5052",
   "metadata": {},
   "outputs": [],
   "source": [
    "df=pd.read_csv('anomaly.csv', sep=',',header=None)\n",
    "df2=pd.read_csv('noisesimulation1.csv', sep=',',header=None)\n",
    "df3=pd.read_csv('noisesimulation2.csv', sep=',', header=None)\n"
   ]
  },
  {
   "cell_type": "code",
   "execution_count": 6,
   "id": "f081e4ec",
   "metadata": {},
   "outputs": [],
   "source": [
    "\n",
    "#first feature is m_JJ, other features are jet masses and tau_21's.\n",
    "sig = df.to_numpy()\n",
    "back1 = df3.to_numpy() #one of these is Pythia and one is Herwig.\n",
    "back2 = df2.to_numpy()\n"
   ]
  },
  {
   "cell_type": "code",
   "execution_count": 7,
   "id": "18ae6c78",
   "metadata": {},
   "outputs": [],
   "source": [
    "\n",
    "#Select only events in the signal region\n",
    "sig = sig[(sig[:,0]>3.25)*(sig[:,0]<3.75)][:,1:5]\n",
    "back1 = back1[(back1[:,0]>3.25)*(back1[:,0]<3.75)][:,1:5]\n",
    "back2 = back2[(back2[:,0]>3.25)*(back2[:,0]<3.75)][:,1:5]"
   ]
  },
  {
   "cell_type": "code",
   "execution_count": 8,
   "id": "df535514",
   "metadata": {},
   "outputs": [],
   "source": [
    "## Transforming variables\n",
    "scaler = StandardScaler()\n",
    "scaler.fit(back1)\n",
    "sig = scaler.transform(sig)\n",
    "back1 = scaler.transform(back1)\n",
    "back2 = scaler.transform(back2)"
   ]
  },
  {
   "cell_type": "markdown",
   "id": "8860a7f2",
   "metadata": {},
   "source": [
    "##### We will first use a supervised classifier(dnn) and then compare the performance with the unsupervised model\n"
   ]
  },
  {
   "cell_type": "code",
   "execution_count": 9,
   "id": "4cd9c4ee",
   "metadata": {},
   "outputs": [],
   "source": [
    "X_fs = np.concatenate([sig,back1])\n",
    "Y_fs = np.concatenate([np.ones(len(sig)),np.zeros(len(back1))]) # assign labels"
   ]
  },
  {
   "cell_type": "code",
   "execution_count": 10,
   "id": "6dd488bb",
   "metadata": {},
   "outputs": [],
   "source": [
    "\n",
    "X_fs_train, X_fs_test, Y_fs_train, Y_fs_test = train_test_split(X_fs,Y_fs,test_size=0.2)"
   ]
  },
  {
   "cell_type": "code",
   "execution_count": 11,
   "id": "18411e15",
   "metadata": {},
   "outputs": [
    {
     "name": "stdout",
     "output_type": "stream",
     "text": [
      "Model: \"sequential\"\n",
      "_________________________________________________________________\n",
      " Layer (type)                Output Shape              Param #   \n",
      "=================================================================\n",
      " dense (Dense)               (None, 100)               500       \n",
      "                                                                 \n",
      " dense_1 (Dense)             (None, 100)               10100     \n",
      "                                                                 \n",
      " dense_2 (Dense)             (None, 100)               10100     \n",
      "                                                                 \n",
      " dense_3 (Dense)             (None, 1)                 101       \n",
      "                                                                 \n",
      "=================================================================\n",
      "Total params: 20,801\n",
      "Trainable params: 20,801\n",
      "Non-trainable params: 0\n",
      "_________________________________________________________________\n",
      "Epoch 1/25\n"
     ]
    },
    {
     "name": "stderr",
     "output_type": "stream",
     "text": [
      "2022-08-28 14:51:08.522907: I tensorflow/core/platform/cpu_feature_guard.cc:151] This TensorFlow binary is optimized with oneAPI Deep Neural Network Library (oneDNN) to use the following CPU instructions in performance-critical operations:  SSE4.1 SSE4.2 AVX AVX2 FMA\n",
      "To enable them in other operations, rebuild TensorFlow with the appropriate compiler flags.\n"
     ]
    },
    {
     "name": "stdout",
     "output_type": "stream",
     "text": [
      "184/184 [==============================] - 1s 4ms/step - loss: 0.3198 - accuracy: 0.8770\n",
      "Epoch 2/25\n",
      "184/184 [==============================] - 1s 4ms/step - loss: 0.2358 - accuracy: 0.9098\n",
      "Epoch 3/25\n",
      "184/184 [==============================] - 1s 4ms/step - loss: 0.2297 - accuracy: 0.9119\n",
      "Epoch 4/25\n",
      "184/184 [==============================] - 1s 4ms/step - loss: 0.2280 - accuracy: 0.9121\n",
      "Epoch 5/25\n",
      "184/184 [==============================] - 1s 4ms/step - loss: 0.2270 - accuracy: 0.9127\n",
      "Epoch 6/25\n",
      "184/184 [==============================] - 1s 4ms/step - loss: 0.2259 - accuracy: 0.9131\n",
      "Epoch 7/25\n",
      "184/184 [==============================] - 1s 4ms/step - loss: 0.2249 - accuracy: 0.9137\n",
      "Epoch 8/25\n",
      "184/184 [==============================] - 1s 4ms/step - loss: 0.2249 - accuracy: 0.9135\n",
      "Epoch 9/25\n",
      "184/184 [==============================] - 1s 4ms/step - loss: 0.2242 - accuracy: 0.9137\n",
      "Epoch 10/25\n",
      "184/184 [==============================] - 1s 4ms/step - loss: 0.2241 - accuracy: 0.9137\n",
      "Epoch 11/25\n",
      "184/184 [==============================] - 1s 4ms/step - loss: 0.2231 - accuracy: 0.9138\n",
      "Epoch 12/25\n",
      "184/184 [==============================] - 1s 4ms/step - loss: 0.2231 - accuracy: 0.9140\n",
      "Epoch 13/25\n",
      "184/184 [==============================] - 1s 4ms/step - loss: 0.2226 - accuracy: 0.9144\n",
      "Epoch 14/25\n",
      "184/184 [==============================] - 1s 4ms/step - loss: 0.2225 - accuracy: 0.9138\n",
      "Epoch 15/25\n",
      "184/184 [==============================] - 1s 4ms/step - loss: 0.2220 - accuracy: 0.9140\n",
      "Epoch 16/25\n",
      "184/184 [==============================] - 1s 4ms/step - loss: 0.2223 - accuracy: 0.9144\n",
      "Epoch 17/25\n",
      "184/184 [==============================] - 1s 4ms/step - loss: 0.2219 - accuracy: 0.9143\n",
      "Epoch 18/25\n",
      "184/184 [==============================] - 1s 4ms/step - loss: 0.2214 - accuracy: 0.9145\n",
      "Epoch 19/25\n",
      "184/184 [==============================] - 1s 4ms/step - loss: 0.2217 - accuracy: 0.9147\n",
      "Epoch 20/25\n",
      "184/184 [==============================] - 1s 4ms/step - loss: 0.2212 - accuracy: 0.9142\n",
      "Epoch 21/25\n",
      "184/184 [==============================] - 1s 4ms/step - loss: 0.2211 - accuracy: 0.9143\n",
      "Epoch 22/25\n",
      "184/184 [==============================] - 1s 4ms/step - loss: 0.2207 - accuracy: 0.9148\n",
      "Epoch 23/25\n",
      "184/184 [==============================] - 1s 4ms/step - loss: 0.2207 - accuracy: 0.9145\n",
      "Epoch 24/25\n",
      "184/184 [==============================] - 1s 4ms/step - loss: 0.2210 - accuracy: 0.9146\n",
      "Epoch 25/25\n",
      "184/184 [==============================] - 1s 4ms/step - loss: 0.2206 - accuracy: 0.9145\n"
     ]
    },
    {
     "data": {
      "text/plain": [
       "<keras.callbacks.History at 0x7fa420448d30>"
      ]
     },
     "execution_count": 11,
     "metadata": {},
     "output_type": "execute_result"
    }
   ],
   "source": [
    "## Fully supervised classifier\n",
    "\n",
    "model_fs = Sequential()\n",
    "model_fs.add(Dense(100,input_dim=4,activation='relu'))\n",
    "model_fs.add(Dense(100,activation='relu'))\n",
    "model_fs.add(Dense(100,activation='relu'))\n",
    "model_fs.add(Dense(1,activation='sigmoid'))\n",
    "model_fs.compile(loss='binary_crossentropy',optimizer='adam',metrics=['accuracy'])\n",
    "model_fs.summary()\n",
    "\n",
    "\n",
    "model_fs.fit(X_fs_train,Y_fs_train,epochs=25,batch_size=1024)"
   ]
  },
  {
   "cell_type": "markdown",
   "id": "a1b2bf9e",
   "metadata": {},
   "source": [
    "### Plot ROC curves"
   ]
  },
  {
   "cell_type": "code",
   "execution_count": 12,
   "id": "3a0a90cb",
   "metadata": {},
   "outputs": [
    {
     "data": {
      "text/plain": [
       "<matplotlib.legend.Legend at 0x7fa41c328d30>"
      ]
     },
     "execution_count": 12,
     "metadata": {},
     "output_type": "execute_result"
    },
    {
     "data": {
      "image/png": "[encoded data removed]",
      "text/plain": [
       "<Figure size 432x288 with 1 Axes>"
      ]
     },
     "metadata": {
      "needs_background": "light"
     },
     "output_type": "display_data"
    }
   ],
   "source": [
    "fpr_fs,tpr_fs,_=roc_curve(Y_fs_test,model_fs.predict(X_fs_test,batch_size=1024))\n",
    "\n",
    "# Plot the ROC curve\n",
    "fig, ax = plt.subplots()\n",
    "ax.set_aspect('equal')\n",
    "plt.plot(tpr_fs,1.0-fpr_fs,color=\"darkorange\",label='Fully Supervised')\n",
    "plt.plot([0,1],[1,0],linestyle='--',color=\"gray\",label=\"Random\")\n",
    "plt.xlabel(\"Pr(label signal | signal)\")\n",
    "plt.ylabel(\"Pr(label signal | background)\")\n",
    "plt.title(\"ROC Curve\")\n",
    "plt.axis([0,1,0,1])\n",
    "plt.legend(loc=\"upper left\")"
   ]
  },
  {
   "cell_type": "markdown",
   "id": "29ab5be2",
   "metadata": {},
   "source": [
    "#### Now the unsupervised autoencoder\n"
   ]
  },
  {
   "cell_type": "code",
   "execution_count": 13,
   "id": "1d399d26",
   "metadata": {},
   "outputs": [
    {
     "name": "stdout",
     "output_type": "stream",
     "text": [
      "Model: \"sequential_1\"\n",
      "_________________________________________________________________\n",
      " Layer (type)                Output Shape              Param #   \n",
      "=================================================================\n",
      " dense_4 (Dense)             (None, 100)               500       \n",
      "                                                                 \n",
      " dense_5 (Dense)             (None, 4)                 404       \n",
      "                                                                 \n",
      " dense_6 (Dense)             (None, 100)               500       \n",
      "                                                                 \n",
      " dense_7 (Dense)             (None, 4)                 404       \n",
      "                                                                 \n",
      "=================================================================\n",
      "Total params: 1,808\n",
      "Trainable params: 1,808\n",
      "Non-trainable params: 0\n",
      "_________________________________________________________________\n",
      "Epoch 1/25\n",
      "54/54 [==============================] - 0s 3ms/step - loss: 0.7740\n",
      "Epoch 2/25\n",
      "54/54 [==============================] - 0s 3ms/step - loss: 0.1936\n",
      "Epoch 3/25\n",
      "54/54 [==============================] - 0s 3ms/step - loss: 0.0467\n",
      "Epoch 4/25\n",
      "54/54 [==============================] - 0s 3ms/step - loss: 0.0179\n",
      "Epoch 5/25\n",
      "54/54 [==============================] - 0s 3ms/step - loss: 0.0095\n",
      "Epoch 6/25\n",
      "54/54 [==============================] - 0s 3ms/step - loss: 0.0056\n",
      "Epoch 7/25\n",
      "54/54 [==============================] - 0s 3ms/step - loss: 0.0037\n",
      "Epoch 8/25\n",
      "54/54 [==============================] - 0s 3ms/step - loss: 0.0027\n",
      "Epoch 9/25\n",
      "54/54 [==============================] - 0s 3ms/step - loss: 0.0021\n",
      "Epoch 10/25\n",
      "54/54 [==============================] - 0s 3ms/step - loss: 0.0017\n",
      "Epoch 11/25\n",
      "54/54 [==============================] - 0s 3ms/step - loss: 0.0014\n",
      "Epoch 12/25\n",
      "54/54 [==============================] - 0s 3ms/step - loss: 0.0012\n",
      "Epoch 13/25\n",
      "54/54 [==============================] - 0s 3ms/step - loss: 0.0010\n",
      "Epoch 14/25\n",
      "54/54 [==============================] - 0s 3ms/step - loss: 9.1863e-04\n",
      "Epoch 15/25\n",
      "54/54 [==============================] - 0s 3ms/step - loss: 8.2569e-04\n",
      "Epoch 16/25\n",
      "54/54 [==============================] - 0s 3ms/step - loss: 7.5277e-04\n",
      "Epoch 17/25\n",
      "54/54 [==============================] - 0s 3ms/step - loss: 6.8630e-04\n",
      "Epoch 18/25\n",
      "54/54 [==============================] - 0s 3ms/step - loss: 6.3791e-04\n",
      "Epoch 19/25\n",
      "54/54 [==============================] - 0s 3ms/step - loss: 5.9034e-04\n",
      "Epoch 20/25\n",
      "54/54 [==============================] - 0s 3ms/step - loss: 5.5022e-04\n",
      "Epoch 21/25\n",
      "54/54 [==============================] - 0s 3ms/step - loss: 5.1489e-04\n",
      "Epoch 22/25\n",
      "54/54 [==============================] - 0s 3ms/step - loss: 4.8185e-04\n",
      "Epoch 23/25\n",
      "54/54 [==============================] - 0s 3ms/step - loss: 4.5489e-04\n",
      "Epoch 24/25\n",
      "54/54 [==============================] - 0s 3ms/step - loss: 4.3322e-04\n",
      "Epoch 25/25\n",
      "54/54 [==============================] - 0s 3ms/step - loss: 4.0612e-04\n"
     ]
    },
    {
     "data": {
      "text/plain": [
       "<keras.callbacks.History at 0x7fa41473afd0>"
      ]
     },
     "execution_count": 13,
     "metadata": {},
     "output_type": "execute_result"
    }
   ],
   "source": [
    "## Anomaly detection\n",
    "\n",
    "# weak supervision would be S+B versus B.  \n",
    "# Let's do a simple unsupervised model, an autoencoder.\n",
    "\n",
    "model_us = Sequential()\n",
    "model_us.add(Dense(100,input_dim=4,activation='relu'))\n",
    "model_us.add(Dense(4,activation='relu'))\n",
    "model_us.add(Dense(100,activation='relu'))\n",
    "model_us.add(Dense(4,activation='linear'))\n",
    "model_us.compile(loss='mse',optimizer='adam')\n",
    "model_us.summary()\n",
    "\n",
    "X_us_train, X_us_test, Y_us_train, Y_us_test = train_test_split(back1,back1,test_size=0.3)\n",
    "model_us.fit(X_us_train,Y_us_train,epochs=25,batch_size=2000)"
   ]
  },
  {
   "cell_type": "code",
   "execution_count": 14,
   "id": "93b9fad9",
   "metadata": {},
   "outputs": [
    {
     "data": {
      "text/plain": [
       "<matplotlib.legend.Legend at 0x7fa420cdc790>"
      ]
     },
     "execution_count": 14,
     "metadata": {},
     "output_type": "execute_result"
    },
    {
     "data": {
      "image/png": "[encoded data removed]",
      "text/plain": [
       "<Figure size 432x288 with 1 Axes>"
      ]
     },
     "metadata": {
      "needs_background": "light"
     },
     "output_type": "display_data"
    }
   ],
   "source": [
    "anomaly_score = np.linalg.norm(X_fs_test - model_us.predict(X_fs_test),axis=1)\n",
    "fpr_us,tpr_us,_=roc_curve(Y_fs_test,anomaly_score)\n",
    "\n",
    "# Plot the ROC curve\n",
    "fig, ax = plt.subplots()\n",
    "ax.set_aspect('equal')\n",
    "plt.plot(tpr_fs,1.0-fpr_fs,color=\"darkorange\",label='Fully Supervised')\n",
    "plt.plot(tpr_us,1.0-fpr_us,color=\"blue\",label='Unsupervised')\n",
    "plt.plot([0,1],[1,0],linestyle='--',color=\"gray\",label=\"Random\")\n",
    "plt.xlabel(\"Pr(label signal | signal)\")\n",
    "plt.ylabel(\"Pr(label signal | background)\")\n",
    "plt.title(\"ROC Curve\")\n",
    "plt.axis([0,1,0,1])\n",
    "plt.legend(loc=\"upper left\")"
   ]
  },
  {
   "cell_type": "markdown",
   "id": "88b1568d",
   "metadata": {},
   "source": [
    "##### So the performance is much worse than supervised learning but it is unsupervised/model independent"
   ]
  },
  {
   "cell_type": "code",
   "execution_count": null,
   "id": "f2896067",
   "metadata": {},
   "outputs": [],
   "source": []
  }
 ],
 "metadata": {
  "kernelspec": {
   "display_name": "Python 3 (ipykernel)",
   "language": "python",
   "name": "python3"
  },
  "language_info": {
   "codemirror_mode": {
    "name": "ipython",
    "version": 3
   },
   "file_extension": ".py",
   "mimetype": "text/x-python",
   "name": "python",
   "nbconvert_exporter": "python",
   "pygments_lexer": "ipython3",
   "version": "3.9.13"
  }
 },
 "nbformat": 4,
 "nbformat_minor": 5
}
